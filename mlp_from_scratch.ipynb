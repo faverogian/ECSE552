{
 "cells": [
  {
   "cell_type": "markdown",
   "metadata": {},
   "source": [
    "## MLP From Scratch\n",
    "Homework 1  \n",
    "ECSE 552  \n",
    "Gian Favero and Mohamed Mohamed  \n",
    "February 5th, 2024  "
   ]
  },
  {
   "cell_type": "markdown",
   "metadata": {},
   "source": [
    "### Objectives\n",
    "\n",
    "The object of this notebook is to construct an MLP network from scratch without using autodifferentiation or optimization capabilities of higher-level libraries (PyTorch, TensorFlow, etc.). In other words, the gradients must be calculated and propogated through the network so as to implement stochastic gradient descent manually.\n",
    "\n",
    "For simplification, the network has some constraints:\n",
    "\n",
    "- The neural network has two hidden layers\n",
    "- The network may have a fixed architecture\n",
    "- Network parameters can be randomly initialized\n",
    "- The output has 3 units\n",
    "- All layers have sigmoid activation functions\n",
    "- Batch size is 1\n",
    "- The loss function is sum of squared errors (SSE) across the three outputs"
   ]
  },
  {
   "cell_type": "markdown",
   "metadata": {},
   "source": [
    "### Getting Started\n",
    "\n",
    "We begin by importing the necessary libraries for this implementation. In our case all we need is NumPy for the algorithmic operations and matplotlib for plotting loss and validation curves."
   ]
  },
  {
   "cell_type": "code",
   "execution_count": 236,
   "metadata": {},
   "outputs": [],
   "source": [
    "# imports\n",
    "import numpy as np\n",
    "import matplotlib.pyplot as plt"
   ]
  },
  {
   "cell_type": "markdown",
   "metadata": {},
   "source": [
    "### Loading Data\n",
    "\n",
    "The data provided for this part of the assignment consists of four .csv files: two data files and two label files for the training and validation sets. To aptly use our custom dataloader, we will append the labels as the last three columns of the data file. "
   ]
  },
  {
   "cell_type": "code",
   "execution_count": 237,
   "metadata": {},
   "outputs": [],
   "source": [
    "# Load in the training data .csv file\n",
    "train_data = np.loadtxt('data/training_set.csv', delimiter=',')\n",
    "train_labels = np.loadtxt('data/training_labels_bin.csv', delimiter=',')\n",
    "\n",
    "# Concatenate the labels to the training data\n",
    "train_data = np.concatenate((train_data, train_labels), axis=1)\n",
    "\n",
    "# Do the same thing for validation data\n",
    "val_data = np.loadtxt('data/validation_set.csv', delimiter=',')\n",
    "val_labels = np.loadtxt('data/validation_labels_bin.csv', delimiter=',')\n",
    "val_data = np.concatenate((val_data, val_labels), axis=1)\n",
    "\n",
    "# Save the data to a .csv file\n",
    "np.savetxt('data/train_data.csv', train_data, delimiter=',')\n",
    "np.savetxt('data/val_data.csv', val_data, delimiter=',')"
   ]
  },
  {
   "cell_type": "markdown",
   "metadata": {},
   "source": [
    "Given that we are working with tabular data provided as training and validation sets and labels. We can construct a dataloader that is capable of loading data from a specified .csv file(s), shuffling the instances, and doing normalization by feature. \n",
    "\n",
    "Normalization typically involves adjusting the values in the dataset so they share a common scale, without distorting differences in the ranges of values or losing information. A common approach is to scale the features to a range, or to standardize them to have a mean of 0 and a standard deviation of 1. This is important in machine learning applications for more efficient and stable training."
   ]
  },
  {
   "cell_type": "code",
   "execution_count": 238,
   "metadata": {},
   "outputs": [],
   "source": [
    "class DataLoader:\n",
    "    \"\"\"\n",
    "    A custom data loader class for loading data from a .csv file.\n",
    "    \"\"\"\n",
    "    def __init__(self, filename: str, shuffle: bool=True, normalize: bool=True) -> None:\n",
    "        # Load data from file\n",
    "        self.data = np.genfromtxt(filename, delimiter=',')\n",
    "        self.features = self.data[:, :-3]\n",
    "        self.labels = self.data[:, -3:]\n",
    "\n",
    "        self.batch_size = 1 # batch size of 1 as per constraints\n",
    "        self.shuffle = shuffle\n",
    "        self.indexes = np.arange(self.features.shape[0])\n",
    "\n",
    "        # Normalize data if required\n",
    "        if normalize:\n",
    "            self.features = self.normalize(self.features)\n",
    "\n",
    "    def normalize(self, data: np.ndarray) -> np.ndarray:\n",
    "        # Standardize data: mean of 0 and standard deviation of 1\n",
    "        mean = np.mean(data, axis=0)\n",
    "        std = np.std(data, axis=0)\n",
    "        return (data - mean) / std\n",
    "    \n",
    "    def __len__(self) -> int:\n",
    "        # Return the number of batches\n",
    "        return int(np.ceil(len(self.features) / self.batch_size))\n",
    "\n",
    "    def __iter__(self) -> 'DataLoader':\n",
    "        self.indexes = np.arange(self.features.shape[0])\n",
    "        # Shuffle data at the start of each iteration if required\n",
    "        if self.shuffle:\n",
    "            np.random.shuffle(self.indexes)\n",
    "        return self\n",
    "\n",
    "    def __next__(self) -> tuple:\n",
    "        # If there's no more data to process, stop iteration\n",
    "        if len(self.indexes) == 0:\n",
    "            raise StopIteration\n",
    "\n",
    "        # Select indexes for the next batch\n",
    "        batch_indexes = self.indexes[:self.batch_size]\n",
    "        self.indexes = self.indexes[self.batch_size:]\n",
    "\n",
    "        # Return the batch of data\n",
    "        return self.features[batch_indexes], self.labels[batch_indexes]"
   ]
  },
  {
   "cell_type": "markdown",
   "metadata": {},
   "source": [
    "### MLP\n",
    "\n",
    "We now move into defining the MLP net. "
   ]
  },
  {
   "cell_type": "markdown",
   "metadata": {},
   "source": [
    "#### Feedforward Process\n",
    "\n",
    "The initial step of constructing a feedforward process is to construct a neuron. The constraints specify that each unit (hidden or other) is to have a sigmoid activation function. Thus, we can start there. The sigmoid function is defined as:\n",
    "\n",
    "$$\n",
    "\\sigma(x) = \\frac{1}{1 + e^{-x}}\n",
    "$$"
   ]
  },
  {
   "cell_type": "code",
   "execution_count": 239,
   "metadata": {},
   "outputs": [],
   "source": [
    "def sig(x: np.ndarray) -> np.ndarray:\n",
    "    \"\"\"\n",
    "    Compute the sigmoid function for the input x.\n",
    "    \"\"\"\n",
    "    return 1 / (1 + np.exp(-x))"
   ]
  },
  {
   "cell_type": "markdown",
   "metadata": {},
   "source": [
    "The next process involves specifying an initialization method that dynamically allocates parameters for each layer based on a `layer_sizes` argument.\n",
    "\n",
    "Weight Matrices $W^{(l)}$:\n",
    "- Dimension Specification: For a given layer `l`, the corresponding weight matrix should have dimensions of `m` rows by `n` columns.\n",
    "    - `m` represents the width of layer `(l-1)`.\n",
    "    - `n` represents the width of layer `l`.\n",
    "- Value Assignment: These matrices are filled with random values ranging between 0 and 1.\n",
    "- Storage: Matrices are stored in an array for later use.\n",
    "\n",
    "Hidden State Arrays $h^{(l)}$:\n",
    "- Creation: Hidden state arrays are created for each layer, excluding the output layer.\n",
    "- Initialization: These arrays are initially filled with zeros."
   ]
  },
  {
   "cell_type": "code",
   "execution_count": 240,
   "metadata": {},
   "outputs": [],
   "source": [
    "def init_net(layer_sizes: list) -> tuple:\n",
    "    \"\"\"\n",
    "    Initialize the weights and hidden states for the neural network.\n",
    "\n",
    "    Args:\n",
    "        layer_sizes: A list containing the number of nodes in each layer of the network.\n",
    "                     e.g. [784, 100, 10] for a network with 784 input nodes, 100 hidden nodes,\n",
    "                     and 10 output nodes.\n",
    "\n",
    "    Returns:\n",
    "        weights: A list of numpy arrays containing the weights for each layer of the network.\n",
    "                 e.g. weights[0] is the weight matrix for the first layer of the network.\n",
    "        hidden_states: A list of numpy arrays containing the hidden states for each layer of the network.\n",
    "                       e.g. hidden_states[0] is the hidden state for the first layer of the network.\n",
    "    \"\"\"\n",
    "    # Initialize weights with random values. Note that the output layer does not have weights.\n",
    "    weights = []\n",
    "    for i in range(len(layer_sizes) - 1):\n",
    "        weights.append(np.random.rand(layer_sizes[i], layer_sizes[i+1]))\n",
    "\n",
    "    # Initialize bias terms with random values. Note that the output layer does not have bias terms.\n",
    "    biases = []\n",
    "    for i in range(len(layer_sizes) - 1):\n",
    "        biases.append(np.random.rand(layer_sizes[i+1]))\n",
    "    \n",
    "    # Initialize hidden states with zeros. Note that the first hidden state is the input, and the last hidden state is the output layer.\n",
    "    hidden_states = []\n",
    "    for i in range(len(layer_sizes)):\n",
    "        hidden_states.append(np.zeros(layer_sizes[i]))\n",
    "\n",
    "    return weights, biases, hidden_states"
   ]
  },
  {
   "cell_type": "markdown",
   "metadata": {},
   "source": [
    "We are now ready to implement a `forward` function to compute the network prediction. \n",
    "\n",
    "Key Points:\n",
    "\n",
    "- Batch Size Constraint: The constraint on the batch size enforces that only one input is given per update.\n",
    "- Input Representation: In this context, 'x' denotes a sample data point to feed through the network.\n",
    "- Hidden States Update: Hidden states from 1 through `len(layer_sizes)` are updated in an iterative fashion.\n",
    "\n",
    "The first hidden state is simply the input: $h^{(0)} = x$. For subsequent layers, the hidden state is defined as:\n",
    "\n",
    "$$\n",
    "h^{(l+1)} = \\sigma(W^{(l)} h^{(l)} + b^{(l)})\n",
    "$$"
   ]
  },
  {
   "cell_type": "code",
   "execution_count": 241,
   "metadata": {},
   "outputs": [],
   "source": [
    "def forward(x: np.ndarray, weights: list, hidden_states: list, biases: list) -> list:\n",
    "    \"\"\"\n",
    "    Perform a forward pass through the network storing the hidden states and output.\n",
    "\n",
    "    Args:\n",
    "        x: The input data.\n",
    "        weights: The weights of the network.\n",
    "        hidden_states: The hidden states of the network.\n",
    "\n",
    "    Returns:\n",
    "        Updated hidden states of the network.\n",
    "    \"\"\"\n",
    "    hidden_states[0] = x\n",
    "    for i in range(len(weights)):\n",
    "        hidden_states[i+1] = np.dot(x, weights[i]) + biases[i]\n",
    "        x = sig(hidden_states[i+1])\n",
    "\n",
    "    hidden_states[-1] = x\n",
    "\n",
    "    return hidden_states"
   ]
  },
  {
   "cell_type": "markdown",
   "metadata": {},
   "source": [
    "#### Backpropagation\n",
    "\n",
    "Training the network involves stochastic gradient descent in which all network weights are decremented by the gradient of the cost function with respect to the weight (multiplied by a learning rate hyperparameter). Deriving the gradient of the cost function with respect to each individual weight is analytically much less practical than using backpropagation which leverages the chain rule for on-the-fly gradient computation (sacrificing memory for computation). \n",
    "\n",
    "Given the constraint that all hidden units (and output units) have a sigmoid activation function, we only need to define one gradient function. Easy enough, the sigmoid function has a simple analytical gradient."
   ]
  },
  {
   "cell_type": "code",
   "execution_count": 242,
   "metadata": {},
   "outputs": [],
   "source": [
    "def sig_grad(x: np.ndarray) -> np.ndarray:\n",
    "    \"\"\"\n",
    "    Compute the gradient of the sigmoid function for the input x.\n",
    "    \"\"\"\n",
    "    return sig(x) * (1 - sig(x))"
   ]
  },
  {
   "cell_type": "markdown",
   "metadata": {},
   "source": [
    "We also need to define a loss function for the output. Recall that it is the SSE across the three outputs. We can implement this as follows:"
   ]
  },
  {
   "cell_type": "code",
   "execution_count": 243,
   "metadata": {},
   "outputs": [],
   "source": [
    "def loss(y: np.ndarray, y_hat: np.ndarray) -> float:\n",
    "    \"\"\"\n",
    "    Compute the loss between the predicted and true labels.\n",
    "\n",
    "    Args:\n",
    "        y: The true labels.\n",
    "        y_hat: The predicted labels.\n",
    "\n",
    "    Returns:\n",
    "        The loss between the predicted and true labels.\n",
    "    \"\"\"\n",
    "    loss_val = 0.5 * np.sum((y - y_hat) ** 2)\n",
    "    loss_grad = y_hat - y\n",
    "    return loss_val, loss_grad"
   ]
  },
  {
   "cell_type": "markdown",
   "metadata": {},
   "source": [
    "We can now define a full backpropagation algorithm for updating each weight. The gradient of the SSE loss function with respect to each output node (i.e., each predicted value $\\hat{y}_i $) is calculated as follows:\n",
    "$$\n",
    "\\frac{\\partial J}{\\partial \\hat{y}_i} = \\frac{\\partial}{\\partial \\hat{y}_i} \\left( \\frac{1}{2} \\sum_{j=1}^{n} (y_j - \\hat{y}_j)^2 \\right)\n",
    "$$\n",
    "\n",
    "For the $i^{th}$ term:\n",
    "$$\n",
    "\\frac{\\partial J}{\\partial \\hat{y}_i} = - \\frac{1}{2} \\times 2 \\times (y_i - \\hat{y}_i) = \\hat{y}_i - y_i\n",
    "$$\n",
    "\n",
    "The hidden layers are formulated as follows:\n",
    "$$\n",
    "a^{(l)} = W^{(l)}h^{(l-1)} + b^{(l)} \\\\\n",
    "h^{(l)} = \\sigma (a^{(l)})\n",
    "$$\n",
    "\n",
    "It can be formulated (as seen in the lecture) that the chain rule can be used to calculate the gradients pre-activation:\n",
    "$$\n",
    "\\frac{\\partial J}{\\partial a^{(l)}} = \\frac{\\partial J}{\\partial h^{(l)}} \\cdot f'(a^{(l)})\n",
    "$$\n",
    "\n",
    "From here, the gradients of the weights and biases are easily derived:\n",
    "$$\n",
    "\\frac{\\partial J}{\\partial W^{(l)}} = \\frac{\\partial J}{\\partial a^{(l)}} \\cdot h^{(l)T} \\\\\n",
    "\\frac{\\partial J}{\\partial b^{(l)}} = \\frac{\\partial J}{\\partial a^{(l)}}\n",
    "$$\n",
    "\n",
    "And then finally, for the previous post-activation layer, $h^{(l-1)}$\n",
    "$$\n",
    "\\frac{\\partial J}{\\partial h^{(l-1)}} = W^{(l)T} \\cdot \\frac{\\partial J}{\\partial a^{(l)}} \n",
    "$$"
   ]
  },
  {
   "cell_type": "code",
   "execution_count": 244,
   "metadata": {},
   "outputs": [],
   "source": [
    "def backward(loss_grad: float, weights: list, biases: list, hidden_states: list, lr: float) -> tuple:\n",
    "    \"\"\"\n",
    "    Perform a backward pass through the network updating the weights.\n",
    "\n",
    "    Args:\n",
    "        loss_grad: The gradient of the SSE loss for the output units.\n",
    "        weights: The weights of the network.\n",
    "        hidden_states: The hidden states of the network.\n",
    "        lr: Learning rate for the update.\n",
    "\n",
    "    Returns:\n",
    "        Updated weights and biases of the network.\n",
    "    \"\"\"\n",
    "    # Make an array of the same size as the hidden states to store the gradients\n",
    "    pre_gradients = [np.zeros_like(h_state) for h_state in hidden_states]\n",
    "    post_gradients = [np.zeros_like(h_state) for h_state in hidden_states]\n",
    "\n",
    "    # Get the gradient of the loss with respect to the output layer\n",
    "    post_gradients[-1] = loss_grad\n",
    "\n",
    "    for i in range(len(hidden_states) - 1, 0, -1):\n",
    "        # Compute the pre-activation gradient for the current layer\n",
    "        pre_gradients[i] = post_gradients[i] * sig_grad(hidden_states[i])\n",
    "\n",
    "        # Update the weights and biases for the current layer\n",
    "        weights[i-1] -= lr * np.dot(hidden_states[i-1].T, pre_gradients[i])\n",
    "        biases[i-1] -= lr * pre_gradients[i][0]\n",
    "\n",
    "        # Compute the gradient of the loss with respect to the hidden states\n",
    "        post_gradients[i-1] = np.dot(pre_gradients[i], weights[i-1].T)\n",
    "\n",
    "    return weights, biases"
   ]
  },
  {
   "cell_type": "markdown",
   "metadata": {},
   "source": [
    "### Training\n",
    "\n",
    "We will translate the code into a class for organization. "
   ]
  },
  {
   "cell_type": "code",
   "execution_count": 245,
   "metadata": {},
   "outputs": [],
   "source": [
    "class MLP:\n",
    "    def __init__(self, layer_sizes: list, lr: float=0.01) -> None:\n",
    "        self.lr = lr\n",
    "\n",
    "        # Initialize weights with random values. Note that the output layer does not have weights.\n",
    "        self.weights = []\n",
    "        for i in range(len(layer_sizes) - 1):\n",
    "            self.weights.append(np.random.randn(layer_sizes[i], layer_sizes[i+1]) * np.sqrt(1 / layer_sizes[i]))\n",
    "\n",
    "        # Initialize bias terms with random values. Note that the output layer does not have bias terms.\n",
    "        self.biases = []\n",
    "        for i in range(len(layer_sizes) - 1):\n",
    "            self.biases.append(np.random.rand(layer_sizes[i+1]))\n",
    "        \n",
    "        # Initialize hidden states with zeros. Note that the first hidden state is the input, and the last hidden state is the output layer.\n",
    "        self.hidden_states = []\n",
    "        for i in range(len(layer_sizes)):\n",
    "            self.hidden_states.append(np.zeros(layer_sizes[i]))\n",
    "\n",
    "    def _forward(self, x: np.ndarray) -> list:\n",
    "        self.hidden_states[0] = x\n",
    "        for i in range(len(self.weights)):\n",
    "            self.hidden_states[i+1] = np.dot(x, self.weights[i]) + self.biases[i]\n",
    "            x = sig(self.hidden_states[i+1])\n",
    "\n",
    "        output = sig(self.hidden_states[-1])\n",
    "\n",
    "        return output\n",
    "    \n",
    "    def _backward(self, loss_grad: float) -> tuple:\n",
    "        # Make an array of the same size as the hidden states to store the gradients\n",
    "        self.pre_gradients = [np.zeros_like(h_state) for h_state in self.hidden_states]\n",
    "        self.post_gradients = [np.zeros_like(h_state) for h_state in self.hidden_states]\n",
    "\n",
    "        # Get the gradient of the loss with respect to the output layer\n",
    "        self.post_gradients[-1] = loss_grad\n",
    "\n",
    "        for i in range(len(self.hidden_states) - 1, 0, -1):\n",
    "            # Compute the pre-activation gradient for the current layer\n",
    "            self.pre_gradients[i] = self.post_gradients[i] * sig_grad(self.hidden_states[i])\n",
    "\n",
    "            # Update the weights and biases for the current layer\n",
    "            self.weights[i-1] -= self.lr * np.dot(self.hidden_states[i-1].T, self.pre_gradients[i])\n",
    "            self.biases[i-1] -= self.lr * self.pre_gradients[i][0]\n",
    "\n",
    "            # Compute the gradient of the loss with respect to the hidden states\n",
    "            self.post_gradients[i-1] = np.dot(self.pre_gradients[i], self.weights[i-1].T)\n",
    "    \n",
    "    def _loss(self, y: np.ndarray, y_hat: np.ndarray) -> float:\n",
    "        loss_val = 0.5 * np.sum((y - y_hat) ** 2)\n",
    "        loss_grad = y_hat - y\n",
    "        return loss_val, loss_grad\n",
    "\n",
    "    def train(self, train_loader: DataLoader, val_loader: DataLoader, epochs: int=10) -> tuple:\n",
    "        train_losses = []\n",
    "        val_losses = []\n",
    "\n",
    "        for epoch in range(epochs):\n",
    "            epoch_loss = 0\n",
    "            for x, y in train_loader:\n",
    "                # Forward pass\n",
    "                y_hat = self._forward(x)[-1]\n",
    "\n",
    "                # Compute loss\n",
    "                loss_val, loss_grad = self._loss(y, y_hat)\n",
    "                epoch_loss += loss_val\n",
    "\n",
    "                # Backward pass\n",
    "                self._backward(loss_grad)\n",
    "\n",
    "            # Compute average loss for the epoch\n",
    "            epoch_loss /= len(train_loader)\n",
    "            train_losses.append(epoch_loss)\n",
    "\n",
    "            # Compute validation loss\n",
    "            val_loss = 0\n",
    "            for x, y in val_loader:\n",
    "                y_hat = self._forward(x)[-1]\n",
    "                val_loss += self._loss(y, y_hat)[0]\n",
    "            val_loss /= len(val_loader)\n",
    "            val_losses.append(val_loss)\n",
    "\n",
    "            print(f'Epoch {epoch+1}: Train Loss: {epoch_loss:.4f} | Val Loss: {val_loss:.4f}')\n",
    "            \n",
    "            # Reduce learning rate after 10 epochs\n",
    "            if epoch > 5 and epoch % 5 == 0:\n",
    "                self.lr /= 3\n",
    "\n",
    "        return train_losses, val_losses"
   ]
  },
  {
   "cell_type": "markdown",
   "metadata": {},
   "source": [
    "### Performance Analysis\n",
    "\n",
    "We construct a MLP network with 50 hidden units in each of the two hidden layers. In addition, the learning rate is initialized to 0.01 and divided by three every 10 epochs after a ten warmup epoch period has passed. To investigate if the network is learning correctly, a few pieces of analysis are critical:\n",
    "\n",
    "- Is the network able to overfit and achieve near zero loss on the training set?\n",
    "- Is the training loss generally decreasing over time?\n",
    "\n",
    "We investigate these critical questions through observance of the training and validation losses over time (epochs)."
   ]
  },
  {
   "cell_type": "code",
   "execution_count": 246,
   "metadata": {},
   "outputs": [
    {
     "name": "stdout",
     "output_type": "stream",
     "text": [
      "Epoch 1: Train Loss: 0.2009 | Val Loss: 0.1632\n",
      "Epoch 2: Train Loss: 0.0581 | Val Loss: 0.1224\n",
      "Epoch 3: Train Loss: 0.0316 | Val Loss: 0.1042\n",
      "Epoch 4: Train Loss: 0.0206 | Val Loss: 0.1163\n",
      "Epoch 5: Train Loss: 0.0150 | Val Loss: 0.0994\n",
      "Epoch 6: Train Loss: 0.0113 | Val Loss: 0.1065\n",
      "Epoch 7: Train Loss: 0.0090 | Val Loss: 0.1029\n",
      "Epoch 8: Train Loss: 0.0074 | Val Loss: 0.1010\n",
      "Epoch 9: Train Loss: 0.0063 | Val Loss: 0.0979\n",
      "Epoch 10: Train Loss: 0.0053 | Val Loss: 0.0994\n",
      "Epoch 11: Train Loss: 0.0047 | Val Loss: 0.0993\n",
      "Epoch 12: Train Loss: 0.0039 | Val Loss: 0.1005\n",
      "Epoch 13: Train Loss: 0.0037 | Val Loss: 0.1006\n",
      "Epoch 14: Train Loss: 0.0036 | Val Loss: 0.1004\n",
      "Epoch 15: Train Loss: 0.0035 | Val Loss: 0.0983\n",
      "Epoch 16: Train Loss: 0.0034 | Val Loss: 0.0997\n",
      "Epoch 17: Train Loss: 0.0032 | Val Loss: 0.0998\n",
      "Epoch 18: Train Loss: 0.0031 | Val Loss: 0.1002\n",
      "Epoch 19: Train Loss: 0.0031 | Val Loss: 0.0998\n",
      "Epoch 20: Train Loss: 0.0031 | Val Loss: 0.1000\n"
     ]
    },
    {
     "data": {
      "image/png": "[encoded data removed]",
      "text/plain": [
       "<Figure size 1000x400 with 2 Axes>"
      ]
     },
     "metadata": {},
     "output_type": "display_data"
    }
   ],
   "source": [
    "# Load data\n",
    "train_loader = DataLoader('data/train_data.csv')\n",
    "val_loader = DataLoader('data/val_data.csv')\n",
    "\n",
    "# Initialize MLP\n",
    "mlp = MLP([354, 50, 50, 3])\n",
    "\n",
    "# Train MLP\n",
    "train_losses, val_losses = mlp.train(train_loader, val_loader, epochs=20)\n",
    "\n",
    "# Plot losses on two separate subplots\n",
    "fig, (ax1, ax2) = plt.subplots(1, 2, figsize=(10, 4))\n",
    "\n",
    "ax1.plot(train_losses)\n",
    "ax1.set_title('Training Mean SSE Loss')\n",
    "ax1.set_xlabel('Epoch')\n",
    "ax1.set_ylabel('Mean SSE Loss')\n",
    "\n",
    "ax2.plot(val_losses)\n",
    "ax2.set_title('Validation Mean SSE Loss')\n",
    "ax2.set_xlabel('Epoch')\n",
    "ax2.set_ylabel('Mean SSE Loss')\n",
    "\n",
    "plt.tight_layout()\n",
    "plt.show()"
   ]
  },
  {
   "cell_type": "markdown",
   "metadata": {},
   "source": [
    "### Results\n",
    "\n",
    "The results indicate that the MLP network is indeed able to learn the data with the specified configuration. The average training and validation SSE losses start moderately high (0.2 for training, 0.15 for validation), but decrease in response to the stochastic gradient descent algorithm. As the weights and biases of the model become more fine-tuned, the training loss converges at a near-zero level, while the validation loss plateaus around 0.0975. \n",
    "\n",
    "While the network is clearly able to learn from the training data, its performance in terms of generalizability could be better. This is apparent because of the high bias between the training and validation losses. Network architecture, learning rate optimization, and regularization are a few topics of improvement for the shortcomings of the MLP model developed here. "
   ]
  }
 ],
 "metadata": {
  "kernelspec": {
   "display_name": "venv",
   "language": "python",
   "name": "python3"
  },
  "language_info": {
   "codemirror_mode": {
    "name": "ipython",
    "version": 3
   },
   "file_extension": ".py",
   "mimetype": "text/x-python",
   "name": "python",
   "nbconvert_exporter": "python",
   "pygments_lexer": "ipython3",
   "version": "3.8.12"
  }
 },
 "nbformat": 4,
 "nbformat_minor": 2
}
